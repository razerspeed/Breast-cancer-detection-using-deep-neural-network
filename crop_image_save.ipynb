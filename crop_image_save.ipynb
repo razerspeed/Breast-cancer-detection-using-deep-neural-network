{
 "cells": [
  {
   "cell_type": "code",
   "execution_count": 1,
   "metadata": {},
   "outputs": [],
   "source": [
    "import numpy as np\n",
    "import matplotlib.pyplot as plt\n",
    "import os\n",
    "from PIL import Image\n",
    "import glob\n",
    "import random\n",
    "import cv2\n",
    "from random import shuffle\n",
    "from PIL import Image, ImageEnhance"
   ]
  },
  {
   "cell_type": "code",
   "execution_count": 2,
   "metadata": {},
   "outputs": [],
   "source": [
    "all_files = os.listdir('dataset_1')"
   ]
  },
  {
   "cell_type": "code",
   "execution_count": 3,
   "metadata": {},
   "outputs": [],
   "source": [
    "resize_value=(2048,2048)\n",
    "batch_x=[]\n",
    "batch_y=[]\n",
    "file_count=0\n",
    "for file in all_files:\n",
    "    mask = Image.open(f'rle_image_dataset_1/{file[:-3]}png')\n",
    "    mask=mask.resize(resize_value)\n",
    "    mask=np.array(mask)\n",
    "    raw = Image.open(f'dataset_1/{file}')\n",
    "    raw = raw.resize(resize_value)\n",
    "    raw=np.array(raw)\n",
    "    x=0\n",
    "    xplus=256\n",
    "    y=0\n",
    "    yplus=256\n",
    "    for i in range(8):\n",
    "        for j in range(8):\n",
    "            tempy=mask[x:xplus,y:yplus]\n",
    "\n",
    "            if tempy.max()==255:\n",
    "                plt.imsave(f'dataset_1_crop/{file_count}.bmp',raw[x:xplus,y:yplus,:])        \n",
    "                Image.fromarray(tempy, 'L').save(f'rle_image_dataset_1_crop/{file_count}.png')\n",
    "                file_count+=1\n",
    "            x+=256\n",
    "            xplus+=256        \n",
    "        x=0\n",
    "        xplus=256\n",
    "        y+=256\n",
    "        yplus+=256\n",
    "\n"
   ]
  }
 ],
 "metadata": {
  "kernelspec": {
   "display_name": "Python 3",
   "language": "python",
   "name": "python3"
  },
  "language_info": {
   "codemirror_mode": {
    "name": "ipython",
    "version": 3
   },
   "file_extension": ".py",
   "mimetype": "text/x-python",
   "name": "python",
   "nbconvert_exporter": "python",
   "pygments_lexer": "ipython3",
   "version": "3.7.6"
  }
 },
 "nbformat": 4,
 "nbformat_minor": 4
}
