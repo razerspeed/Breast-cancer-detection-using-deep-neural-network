{
 "cells": [
  {
   "cell_type": "code",
   "execution_count": 1,
   "metadata": {
    "colab": {
     "base_uri": "https://localhost:8080/",
     "height": 34
    },
    "colab_type": "code",
    "executionInfo": {
     "elapsed": 2189,
     "status": "ok",
     "timestamp": 1542543695321,
     "user": {
      "displayName": "Yinghan Xu",
      "photoUrl": "https://lh3.googleusercontent.com/-ZH_vkc0a6g0/AAAAAAAAAAI/AAAAAAAAAAc/x8TPjkqmxys/s64/photo.jpg",
      "userId": "13488364327507272606"
     },
     "user_tz": -480
    },
    "id": "qSbY3Amlqpkh",
    "outputId": "90795cb8-8374-4711-a036-e005c4c7b9d2"
   },
   "outputs": [],
   "source": [
    "from __future__ import division\n",
    "from __future__ import print_function\n",
    "from __future__ import absolute_import\n",
    "import random\n",
    "import pprint\n",
    "import sys\n",
    "import time\n",
    "import numpy as np\n",
    "from optparse import OptionParser\n",
    "import pickle\n",
    "import math\n",
    "import cv2\n",
    "import copy\n",
    "from matplotlib import pyplot as plt\n",
    "import tensorflow as tf\n",
    "import pandas as pd\n",
    "import os\n",
    "\n",
    "from sklearn.metrics import average_precision_score\n",
    "\n",
    "from tensorflow.keras import backend as K\n",
    "from tensorflow.keras.optimizers import Adam, SGD, RMSprop\n",
    "from tensorflow.keras.layers import Flatten, Dense, Input, Conv2D, MaxPooling2D, Dropout ,Layer, InputSpec\n",
    "from tensorflow.keras.layers import GlobalAveragePooling2D, GlobalMaxPooling2D, TimeDistributed\n",
    "from tensorflow.keras.losses import categorical_crossentropy\n",
    "from tensorflow.keras.utils import get_file,get_source_inputs,Progbar\n",
    "from tensorflow.keras.models import Model\n",
    "from tensorflow.keras import initializers, regularizers\n",
    "from tensorflow.python.keras.utils import generic_utils"
   ]
  },
  {
   "cell_type": "code",
   "execution_count": 2,
   "metadata": {},
   "outputs": [
    {
     "data": {
      "image/png": "[encoded data removed]",
      "text/plain": [
       "<Figure size 432x288 with 1 Axes>"
      ]
     },
     "metadata": {
      "needs_background": "light"
     },
     "output_type": "display_data"
    },
    {
     "data": {
      "image/png": "[encoded data removed]",
      "text/plain": [
       "<Figure size 432x288 with 1 Axes>"
      ]
     },
     "metadata": {
      "needs_background": "light"
     },
     "output_type": "display_data"
    }
   ],
   "source": [
    "#create annotations from \n",
    "%run seg2bounding_box.ipynb"
   ]
  },
  {
   "cell_type": "code",
   "execution_count": 3,
   "metadata": {},
   "outputs": [],
   "source": [
    "%run utils.ipynb"
   ]
  },
  {
   "cell_type": "code",
   "execution_count": 4,
   "metadata": {
    "colab": {},
    "colab_type": "code",
    "id": "C66bqGuOq7w6"
   },
   "outputs": [],
   "source": [
    "base_path = 'etc'\n",
    "\n",
    "train_path =  'annotation.txt' # Training data (annotation file)\n",
    "\n",
    "num_rois = 4 # Number of RoIs to process at once.\n",
    "\n",
    "# Augmentation flag\n",
    "horizontal_flips = True # Augment with horizontal flips in training. \n",
    "vertical_flips = True   # Augment with vertical flips in training. \n",
    "rot_90 = True           # Augment with 90 degree rotations in training. \n",
    "\n",
    "output_weight_path = os.path.join(base_path, 'model/model_frcnn_vgg.hdf5')\n",
    "\n",
    "record_path = os.path.join(base_path, 'model/record.csv') # Record data (used to save the losses, classification accuracy and mean average precision)\n",
    "\n",
    "base_weight_path = os.path.join(base_path, 'model/vgg16_weights_tf_dim_ordering_tf_kernels.h5')\n",
    "\n",
    "config_output_filename = os.path.join(base_path, 'model_vgg_config.pickle')"
   ]
  },
  {
   "cell_type": "code",
   "execution_count": 5,
   "metadata": {
    "colab": {},
    "colab_type": "code",
    "id": "J3oAmbbEutH0"
   },
   "outputs": [],
   "source": [
    "# Create the config\n",
    "C = Config()\n",
    "\n",
    "C.use_horizontal_flips = horizontal_flips\n",
    "C.use_vertical_flips = vertical_flips\n",
    "C.rot_90 = rot_90\n",
    "\n",
    "C.record_path = record_path\n",
    "C.model_path = output_weight_path\n",
    "C.num_rois = num_rois\n",
    "\n",
    "C.base_net_weights = base_weight_path"
   ]
  },
  {
   "cell_type": "code",
   "execution_count": 6,
   "metadata": {
    "colab": {
     "base_uri": "https://localhost:8080/",
     "height": 68
    },
    "colab_type": "code",
    "executionInfo": {
     "elapsed": 36108,
     "status": "ok",
     "timestamp": 1542545119215,
     "user": {
      "displayName": "Yinghan Xu",
      "photoUrl": "https://lh3.googleusercontent.com/-ZH_vkc0a6g0/AAAAAAAAAAI/AAAAAAAAAAc/x8TPjkqmxys/s64/photo.jpg",
      "userId": "13488364327507272606"
     },
     "user_tz": -480
    },
    "id": "yiEaAmb-x-so",
    "outputId": "eb280e97-7692-470f-fbf2-e0f1cf29ef31"
   },
   "outputs": [
    {
     "name": "stdout",
     "output_type": "stream",
     "text": [
      "Parsing annotation files\n",
      "\r",
      "idx=1\r",
      "idx=2\r",
      "idx=3\r",
      "idx=4\r",
      "idx=5\r",
      "idx=6\r",
      "idx=7\r",
      "idx=8\r",
      "idx=9\r",
      "idx=10\r",
      "idx=11\r",
      "idx=12\r",
      "idx=13\r",
      "idx=14\n",
      "Spend 0.00 mins to load the data\n"
     ]
    }
   ],
   "source": [
    "#--------------------------------------------------------#\n",
    "# This step will spend some time to load the data        #\n",
    "#--------------------------------------------------------#\n",
    "st = time.time()\n",
    "train_imgs, classes_count, class_mapping = get_data(train_path)\n",
    "print()\n",
    "print('Spend %0.2f mins to load the data' % ((time.time()-st)/60) )"
   ]
  },
  {
   "cell_type": "code",
   "execution_count": 7,
   "metadata": {
    "colab": {
     "base_uri": "https://localhost:8080/",
     "height": 232
    },
    "colab_type": "code",
    "executionInfo": {
     "elapsed": 1523,
     "status": "error",
     "timestamp": 1542596406207,
     "user": {
      "displayName": "Yinghan Xu",
      "photoUrl": "https://lh3.googleusercontent.com/-ZH_vkc0a6g0/AAAAAAAAAAI/AAAAAAAAAAc/x8TPjkqmxys/s64/photo.jpg",
      "userId": "13488364327507272606"
     },
     "user_tz": -480
    },
    "id": "x-nuSdC56GsK",
    "outputId": "7b7d16df-5aa4-4b7a-decf-b0b24eec0758"
   },
   "outputs": [
    {
     "name": "stdout",
     "output_type": "stream",
     "text": [
      "Training images per class:\n",
      "{'bg': 0, 'mitosis': 14}\n",
      "Num classes (including bg) = 2\n",
      "{'mitosis': 0, 'bg': 1}\n",
      "Config has been written to etc\\model_vgg_config.pickle, and can be loaded when testing to ensure correct results\n"
     ]
    }
   ],
   "source": [
    "if 'bg' not in classes_count:\n",
    "\tclasses_count['bg'] = 0\n",
    "\tclass_mapping['bg'] = len(class_mapping)\n",
    "# e.g.\n",
    "#    classes_count: {'Car': 2383, 'Mobile phone': 1108, 'Person': 3745, 'bg': 0}\n",
    "#    class_mapping: {'Person': 0, 'Car': 1, 'Mobile phone': 2, 'bg': 3}\n",
    "C.class_mapping = class_mapping\n",
    "\n",
    "print('Training images per class:')\n",
    "pprint.pprint(classes_count)\n",
    "print('Num classes (including bg) = {}'.format(len(classes_count)))\n",
    "print(class_mapping)\n",
    "\n",
    "# Save the configuration\n",
    "with open(config_output_filename, 'wb') as config_f:\n",
    "\tpickle.dump(C,config_f)\n",
    "\tprint('Config has been written to {}, and can be loaded when testing to ensure correct results'.format(config_output_filename))\n"
   ]
  },
  {
   "cell_type": "code",
   "execution_count": 8,
   "metadata": {
    "colab": {
     "base_uri": "https://localhost:8080/",
     "height": 34
    },
    "colab_type": "code",
    "executionInfo": {
     "elapsed": 610,
     "status": "ok",
     "timestamp": 1542545124369,
     "user": {
      "displayName": "Yinghan Xu",
      "photoUrl": "https://lh3.googleusercontent.com/-ZH_vkc0a6g0/AAAAAAAAAAI/AAAAAAAAAAc/x8TPjkqmxys/s64/photo.jpg",
      "userId": "13488364327507272606"
     },
     "user_tz": -480
    },
    "id": "LFlq36Sx4F4O",
    "outputId": "e2576f93-290b-48ff-ed8c-fda147fc53df"
   },
   "outputs": [
    {
     "name": "stdout",
     "output_type": "stream",
     "text": [
      "Num train samples (images) 1\n"
     ]
    }
   ],
   "source": [
    "# Shuffle the images with seed\n",
    "random.seed(1)\n",
    "random.shuffle(train_imgs)\n",
    "\n",
    "print('Num train samples (images) {}'.format(len(train_imgs)))"
   ]
  },
  {
   "cell_type": "code",
   "execution_count": 9,
   "metadata": {
    "colab": {},
    "colab_type": "code",
    "id": "GXIV1uXyBo3v"
   },
   "outputs": [],
   "source": [
    "# Get train data generator which generate X, Y, image_data\n",
    "data_gen_train = get_anchor_gt(train_imgs, C, get_img_output_length, mode='train')"
   ]
  },
  {
   "cell_type": "markdown",
   "metadata": {
    "colab_type": "text",
    "id": "y_yM5jkKqM1G"
   },
   "source": [
    "#### Explore 'data_gen_train'\n",
    "\n",
    "data_gen_train is an **generator**, so we get the data by calling **next(data_gen_train)**"
   ]
  },
  {
   "cell_type": "code",
   "execution_count": 10,
   "metadata": {
    "colab": {},
    "colab_type": "code",
    "id": "nIDnio1UlRHi"
   },
   "outputs": [],
   "source": [
    "X, Y, image_data, debug_img, debug_num_pos = next(data_gen_train)"
   ]
  },
  {
   "cell_type": "code",
   "execution_count": 11,
   "metadata": {
    "colab": {
     "base_uri": "https://localhost:8080/",
     "height": 848
    },
    "colab_type": "code",
    "executionInfo": {
     "elapsed": 1611,
     "status": "ok",
     "timestamp": 1542544779625,
     "user": {
      "displayName": "Yinghan Xu",
      "photoUrl": "https://lh3.googleusercontent.com/-ZH_vkc0a6g0/AAAAAAAAAAI/AAAAAAAAAAc/x8TPjkqmxys/s64/photo.jpg",
      "userId": "13488364327507272606"
     },
     "user_tz": -480
    },
    "id": "dZXoJ2e3l2Ey",
    "outputId": "eb1a0f85-93f4-46cb-9046-77afd48b59b5"
   },
   "outputs": [
    {
     "name": "stdout",
     "output_type": "stream",
     "text": [
      "Original image: height=1280 width=1536\n",
      "Resized image:  height=300 width=360 C.im_size=300\n",
      "Feature map size: height=18 width=22 C.rpn_stride=16\n",
      "(1, 300, 360, 3)\n",
      "2 includes 'y_rpn_cls' and 'y_rpn_regr'\n",
      "Shape of y_rpn_cls (1, 18, 22, 18)\n",
      "Shape of y_rpn_regr (1, 18, 22, 72)\n",
      "{'filepath': 'Unet-result.png', 'width': 1536, 'height': 1280, 'bboxes': [{'class': 'mitosis', 'x1': 27, 'x2': 47, 'y1': 463, 'y2': 485}, {'class': 'mitosis', 'x1': 246, 'x2': 250, 'y1': 743, 'y2': 747}, {'class': 'mitosis', 'x1': 246, 'x2': 247, 'y1': -153, 'y2': -151}, {'class': 'mitosis', 'x1': 272, 'x2': 285, 'y1': 91, 'y2': 104}, {'class': 'mitosis', 'x1': 280, 'x2': 285, 'y1': 1026, 'y2': 1036}, {'class': 'mitosis', 'x1': 484, 'x2': 509, 'y1': -103, 'y2': -74}, {'class': 'mitosis', 'x1': 556, 'x2': 573, 'y1': 863, 'y2': 881}, {'class': 'mitosis', 'x1': 571, 'x2': 576, 'y1': 767, 'y2': 768}, {'class': 'mitosis', 'x1': 577, 'x2': 578, 'y1': 767, 'y2': 768}, {'class': 'mitosis', 'x1': 666, 'x2': 673, 'y1': 1026, 'y2': 1033}, {'class': 'mitosis', 'x1': 798, 'x2': 805, 'y1': 1052, 'y2': 1059}, {'class': 'mitosis', 'x1': 1052, 'x2': 1068, 'y1': 1025, 'y2': 1041}, {'class': 'mitosis', 'x1': 1121, 'x2': 1144, 'y1': 176, 'y2': 207}, {'class': 'mitosis', 'x1': 1259, 'x2': 1262, 'y1': 923, 'y2': 926}]}\n",
      "Number of positive anchors for this image: 11\n",
      "(array([ 2,  2,  2,  2,  2,  3,  4,  4,  4,  9,  9,  9,  9, 10, 10, 11, 11,\n",
      "       11, 12, 12, 12, 13, 13, 13, 13, 13, 13, 13, 14, 14, 14, 14, 16],\n",
      "      dtype=int64), array([ 2,  2,  9, 15, 15, 10,  1,  1, 13,  2,  2,  6,  6,  2, 16,  4,  6,\n",
      "        6,  8, 16, 16,  2,  2,  7,  8,  8, 14, 14, 10, 10, 11, 18,  9],\n",
      "      dtype=int64), array([ 0,  9,  0,  0,  9,  5,  1, 10,  3,  0,  9,  0,  9,  1,  2,  3,  0,\n",
      "        9,  4,  0,  9,  0,  9,  3,  0,  9,  0,  9,  0,  9,  3,  0,  2],\n",
      "      dtype=int64))\n",
      "(array([ 2,  2,  2,  2,  2,  2,  2,  2,  4,  4,  4,  4,  9,  9,  9,  9,  9,\n",
      "        9,  9,  9, 11, 11, 11, 11, 12, 12, 12, 12, 13, 13, 13, 13, 13, 13,\n",
      "       13, 13, 13, 13, 13, 13, 14, 14, 14, 14], dtype=int64), array([ 2,  2,  2,  2, 15, 15, 15, 15,  1,  1,  1,  1,  2,  2,  2,  2,  6,\n",
      "        6,  6,  6,  6,  6,  6,  6, 16, 16, 16, 16,  2,  2,  2,  2,  8,  8,\n",
      "        8,  8, 14, 14, 14, 14, 10, 10, 10, 10], dtype=int64), array([0, 1, 2, 3, 0, 1, 2, 3, 4, 5, 6, 7, 0, 1, 2, 3, 0, 1, 2, 3, 0, 1,\n",
      "       2, 3, 0, 1, 2, 3, 0, 1, 2, 3, 0, 1, 2, 3, 0, 1, 2, 3, 0, 1, 2, 3],\n",
      "      dtype=int64))\n",
      "y_rpn_cls for possible pos anchor: [1. 0. 0. 0. 0. 0. 0. 0. 0. 1. 0. 0. 0. 0. 0. 0. 0. 0.]\n",
      "y_rpn_regr for positive anchor: [  1.           1.           1.           1.           0.\n",
      "   0.           0.           0.           0.           0.\n",
      "   0.           0.           0.           0.           0.\n",
      "   0.           0.           0.           0.           0.\n",
      "   0.           0.           0.           0.           0.\n",
      "   0.           0.           0.           0.           0.\n",
      "   0.           0.           0.           0.           0.\n",
      "   0.           1.57958984  -1.07177734 -12.17906666 -12.17906666\n",
      "   0.           0.           0.           0.           0.\n",
      "   0.           0.           0.           0.           0.\n",
      "   0.           0.           0.           0.           0.\n",
      "   0.           0.           0.           0.           0.\n",
      "   0.           0.           0.           0.           0.\n",
      "   0.           0.           0.           0.           0.\n",
      "   0.           0.        ]\n",
      "Center position of positive anchor:  (32, 32)\n",
      "Center position of positive anchor:  (240, 32)\n",
      "Center position of positive anchor:  (16, 64)\n",
      "Center position of positive anchor:  (32, 144)\n",
      "Center position of positive anchor:  (96, 144)\n",
      "Center position of positive anchor:  (96, 176)\n",
      "Center position of positive anchor:  (256, 192)\n",
      "Center position of positive anchor:  (32, 208)\n",
      "Center position of positive anchor:  (128, 208)\n",
      "Center position of positive anchor:  (224, 208)\n",
      "Center position of positive anchor:  (160, 224)\n",
      "Green bboxes is ground-truth bbox. Others are positive anchors\n"
     ]
    },
    {
     "data": {
      "image/png": "[encoded data removed]",
      "text/plain": [
       "<Figure size 576x576 with 1 Axes>"
      ]
     },
     "metadata": {
      "needs_background": "light"
     },
     "output_type": "display_data"
    }
   ],
   "source": [
    "print('Original image: height=%d width=%d'%(image_data['height'], image_data['width']))\n",
    "print('Resized image:  height=%d width=%d C.im_size=%d'%(X.shape[1], X.shape[2], C.im_size))\n",
    "print('Feature map size: height=%d width=%d C.rpn_stride=%d'%(Y[0].shape[1], Y[0].shape[2], C.rpn_stride))\n",
    "print(X.shape)\n",
    "print(str(len(Y))+\" includes 'y_rpn_cls' and 'y_rpn_regr'\")\n",
    "print('Shape of y_rpn_cls {}'.format(Y[0].shape))\n",
    "print('Shape of y_rpn_regr {}'.format(Y[1].shape))\n",
    "print(image_data)\n",
    "\n",
    "print('Number of positive anchors for this image: %d' % (debug_num_pos))\n",
    "if debug_num_pos==0:\n",
    "    gt_x1, gt_x2 = image_data['bboxes'][0]['x1']*(X.shape[2]/image_data['height']), image_data['bboxes'][0]['x2']*(X.shape[2]/image_data['height'])\n",
    "    gt_y1, gt_y2 = image_data['bboxes'][0]['y1']*(X.shape[1]/image_data['width']), image_data['bboxes'][0]['y2']*(X.shape[1]/image_data['width'])\n",
    "    gt_x1, gt_y1, gt_x2, gt_y2 = int(gt_x1), int(gt_y1), int(gt_x2), int(gt_y2)\n",
    "\n",
    "    img = debug_img.copy()\n",
    "    img = cv2.cvtColor(img, cv2.COLOR_BGR2RGB)\n",
    "    color = (0, 255, 0)\n",
    "    cv2.putText(img, 'gt bbox', (gt_x1, gt_y1-5), cv2.FONT_HERSHEY_DUPLEX, 0.7, color, 1)\n",
    "    cv2.rectangle(img, (gt_x1, gt_y1), (gt_x2, gt_y2), color, 2)\n",
    "    cv2.circle(img, (int((gt_x1+gt_x2)/2), int((gt_y1+gt_y2)/2)), 3, color, -1)\n",
    "\n",
    "    plt.grid()\n",
    "    plt.imshow(img)\n",
    "    plt.show()\n",
    "else:\n",
    "    cls = Y[0][0]\n",
    "    pos_cls = np.where(cls==1)\n",
    "    print(pos_cls)\n",
    "    regr = Y[1][0]\n",
    "    pos_regr = np.where(regr==1)\n",
    "    print(pos_regr)\n",
    "    print('y_rpn_cls for possible pos anchor: {}'.format(cls[pos_cls[0][0],pos_cls[1][0],:]))\n",
    "    print('y_rpn_regr for positive anchor: {}'.format(regr[pos_regr[0][0],pos_regr[1][0],:]))\n",
    "\n",
    "    gt_x1, gt_x2 = image_data['bboxes'][0]['x1']*(X.shape[2]/image_data['width']), image_data['bboxes'][0]['x2']*(X.shape[2]/image_data['width'])\n",
    "    gt_y1, gt_y2 = image_data['bboxes'][0]['y1']*(X.shape[1]/image_data['height']), image_data['bboxes'][0]['y2']*(X.shape[1]/image_data['height'])\n",
    "    gt_x1, gt_y1, gt_x2, gt_y2 = int(gt_x1), int(gt_y1), int(gt_x2), int(gt_y2)\n",
    "\n",
    "    img = debug_img.copy()\n",
    "    img = cv2.cvtColor(img, cv2.COLOR_BGR2RGB)\n",
    "    color = (0, 255, 0)\n",
    "    #   cv2.putText(img, 'gt bbox', (gt_x1, gt_y1-5), cv2.FONT_HERSHEY_DUPLEX, 0.7, color, 1)\n",
    "    cv2.rectangle(img, (gt_x1, gt_y1), (gt_x2, gt_y2), color, 2)\n",
    "    cv2.circle(img, (int((gt_x1+gt_x2)/2), int((gt_y1+gt_y2)/2)), 3, color, -1)\n",
    "\n",
    "    # Add text\n",
    "    textLabel = 'gt bbox'\n",
    "    (retval,baseLine) = cv2.getTextSize(textLabel,cv2.FONT_HERSHEY_COMPLEX,0.5,1)\n",
    "    textOrg = (gt_x1, gt_y1+5)\n",
    "    cv2.rectangle(img, (textOrg[0] - 5, textOrg[1]+baseLine - 5), (textOrg[0]+retval[0] + 5, textOrg[1]-retval[1] - 5), (0, 0, 0), 2)\n",
    "    cv2.rectangle(img, (textOrg[0] - 5,textOrg[1]+baseLine - 5), (textOrg[0]+retval[0] + 5, textOrg[1]-retval[1] - 5), (255, 255, 255), -1)\n",
    "    cv2.putText(img, textLabel, textOrg, cv2.FONT_HERSHEY_DUPLEX, 0.5, (0, 0, 0), 1)\n",
    "\n",
    "    # Draw positive anchors according to the y_rpn_regr\n",
    "    for i in range(debug_num_pos):\n",
    "\n",
    "        color = (100+i*(155/4), 0, 100+i*(155/4))\n",
    "\n",
    "        idx = pos_regr[2][i*4]/4\n",
    "        anchor_size = C.anchor_box_scales[int(idx/3)]\n",
    "        anchor_ratio = C.anchor_box_ratios[2-int((idx+1)%3)]\n",
    "\n",
    "        center = (pos_regr[1][i*4]*C.rpn_stride, pos_regr[0][i*4]*C.rpn_stride)\n",
    "        print('Center position of positive anchor: ', center)\n",
    "        cv2.circle(img, center, 3, color, -1)\n",
    "        anc_w, anc_h = anchor_size*anchor_ratio[0], anchor_size*anchor_ratio[1]\n",
    "        cv2.rectangle(img, (center[0]-int(anc_w/2), center[1]-int(anc_h/2)), (center[0]+int(anc_w/2), center[1]+int(anc_h/2)), color, 2)\n",
    "#         cv2.putText(img, 'pos anchor bbox '+str(i+1), (center[0]-int(anc_w/2), center[1]-int(anc_h/2)-5), cv2.FONT_HERSHEY_DUPLEX, 0.5, color, 1)\n",
    "\n",
    "print('Green bboxes is ground-truth bbox. Others are positive anchors')\n",
    "plt.figure(figsize=(8,8))\n",
    "plt.grid()\n",
    "plt.imshow(img)\n",
    "plt.show()"
   ]
  },
  {
   "cell_type": "markdown",
   "metadata": {
    "colab_type": "text",
    "id": "i4XSyIoubCMY"
   },
   "source": [
    "#### Build the model"
   ]
  },
  {
   "cell_type": "code",
   "execution_count": 12,
   "metadata": {
    "colab": {},
    "colab_type": "code",
    "id": "jODipXFDnDJ0"
   },
   "outputs": [],
   "source": [
    "input_shape_img = (None, None, 3)\n",
    "\n",
    "img_input = Input(shape=input_shape_img)\n",
    "roi_input = Input(shape=(None, 4))\n",
    "\n",
    "# define the base network (VGG here, can be Resnet50, Inception, etc)\n",
    "shared_layers = nn_base(img_input, trainable=True)"
   ]
  },
  {
   "cell_type": "code",
   "execution_count": 13,
   "metadata": {},
   "outputs": [],
   "source": [
    "# define the RPN, built on the base layers\n",
    "num_anchors = len(C.anchor_box_scales) * len(C.anchor_box_ratios) # 9\n",
    "rpn = rpn_layer(shared_layers, num_anchors)\n",
    " \n",
    "classifier = classifier_layer(shared_layers, roi_input, C.num_rois, nb_classes=len(classes_count))"
   ]
  },
  {
   "cell_type": "code",
   "execution_count": 14,
   "metadata": {
    "colab": {
     "base_uri": "https://localhost:8080/",
     "height": 68
    },
    "colab_type": "code",
    "executionInfo": {
     "elapsed": 10162,
     "status": "ok",
     "timestamp": 1542545147976,
     "user": {
      "displayName": "Yinghan Xu",
      "photoUrl": "https://lh3.googleusercontent.com/-ZH_vkc0a6g0/AAAAAAAAAAI/AAAAAAAAAAc/x8TPjkqmxys/s64/photo.jpg",
      "userId": "13488364327507272606"
     },
     "user_tz": -480
    },
    "id": "udTeQMVhfSzw",
    "outputId": "11c3bda4-96e2-4658-ab6f-e5bf38519178"
   },
   "outputs": [
    {
     "name": "stdout",
     "output_type": "stream",
     "text": [
      "This is the first time of your training\n",
      "loading weights from etc\\model/vgg16_weights_tf_dim_ordering_tf_kernels.h5\n",
      "Could not load pretrained model weights. Weights can be found in the keras application folder             https://github.com/fchollet/keras/tree/master/keras/applications\n"
     ]
    }
   ],
   "source": [
    "model_rpn = Model(img_input, rpn[:2])\n",
    "model_classifier = Model([img_input, roi_input], classifier)\n",
    "\n",
    "# this is a model that holds both the RPN and the classifier, used to load/save weights for the models\n",
    "model_all = Model([img_input, roi_input], rpn[:2] + classifier)\n",
    "\n",
    "# Because the google colab can only run the session several hours one time (then you need to connect again), \n",
    "# we need to save the model and load the model to continue training\n",
    "if not os.path.isfile(C.model_path):\n",
    "    #If this is the begin of the training, load the pre-traind base network such as vgg-16\n",
    "    try:\n",
    "        print('This is the first time of your training')\n",
    "        print('loading weights from {}'.format(C.base_net_weights))\n",
    "        model_rpn.load_weights(C.base_net_weights, by_name=True)\n",
    "        model_classifier.load_weights(C.base_net_weights, by_name=True)\n",
    "    except:\n",
    "        print('Could not load pretrained model weights. Weights can be found in the keras application folder \\\n",
    "            https://github.com/fchollet/keras/tree/master/keras/applications')\n",
    "    \n",
    "    # Create the record.csv file to record losses, acc and mAP\n",
    "    record_df = pd.DataFrame(columns=['mean_overlapping_bboxes', 'class_acc', 'loss_rpn_cls', 'loss_rpn_regr', 'loss_class_cls', 'loss_class_regr', 'curr_loss', 'elapsed_time', 'mAP'])\n",
    "else:\n",
    "    # If this is a continued training, load the trained model from before\n",
    "    print('Continue training based on previous trained model')\n",
    "    print('Loading weights from {}'.format(C.model_path))\n",
    "    model_rpn.load_weights(C.model_path, by_name=True)\n",
    "    model_classifier.load_weights(C.model_path, by_name=True)\n",
    "    \n",
    "    # Load the records\n",
    "    record_df = pd.read_csv(record_path)\n",
    "\n",
    "    r_mean_overlapping_bboxes = record_df['mean_overlapping_bboxes']\n",
    "    r_class_acc = record_df['class_acc']\n",
    "    r_loss_rpn_cls = record_df['loss_rpn_cls']\n",
    "    r_loss_rpn_regr = record_df['loss_rpn_regr']\n",
    "    r_loss_class_cls = record_df['loss_class_cls']\n",
    "    r_loss_class_regr = record_df['loss_class_regr']\n",
    "    r_curr_loss = record_df['curr_loss']\n",
    "    r_elapsed_time = record_df['elapsed_time']\n",
    "    r_mAP = record_df['mAP']\n",
    "\n",
    "    print('Already train %dK batches'% (len(record_df)))"
   ]
  },
  {
   "cell_type": "code",
   "execution_count": 15,
   "metadata": {
    "colab": {},
    "colab_type": "code",
    "id": "-ULrg0V1soIR"
   },
   "outputs": [],
   "source": [
    "optimizer = Adam(lr=1e-5)\n",
    "optimizer_classifier = Adam(lr=1e-5)\n",
    "model_rpn.compile(optimizer=optimizer, loss=[rpn_loss_cls(num_anchors), rpn_loss_regr(num_anchors)])\n",
    "model_classifier.compile(optimizer=optimizer_classifier, loss=[class_loss_cls, class_loss_regr(len(classes_count)-1)], metrics={'dense_class_{}'.format(len(classes_count)): 'accuracy'})\n",
    "model_all.compile(optimizer='sgd', loss='mae')"
   ]
  },
  {
   "cell_type": "code",
   "execution_count": 16,
   "metadata": {
    "colab": {},
    "colab_type": "code",
    "id": "Qz2BYzL6sqfu"
   },
   "outputs": [],
   "source": [
    "# Training setting\n",
    "total_epochs = len(record_df)\n",
    "r_epochs = len(record_df)\n",
    "\n",
    "epoch_length = 5 #1000\n",
    "num_epochs = 1 #40\n",
    "iter_num = 0\n",
    "\n",
    "total_epochs += num_epochs\n",
    "\n",
    "losses = np.zeros((epoch_length, 5))\n",
    "rpn_accuracy_rpn_monitor = []\n",
    "rpn_accuracy_for_epoch = []\n",
    "\n",
    "if len(record_df)==0:\n",
    "    best_loss = np.Inf\n",
    "else:\n",
    "    best_loss = np.min(r_curr_loss)"
   ]
  },
  {
   "cell_type": "code",
   "execution_count": null,
   "metadata": {
    "colab": {
     "base_uri": "https://localhost:8080/",
     "height": 4916
    },
    "colab_type": "code",
    "executionInfo": {
     "elapsed": 1332624,
     "status": "ok",
     "timestamp": 1542188908991,
     "user": {
      "displayName": "Yinghan Xu",
      "photoUrl": "https://lh3.googleusercontent.com/-ZH_vkc0a6g0/AAAAAAAAAAI/AAAAAAAAAAc/x8TPjkqmxys/s64/photo.jpg",
      "userId": "13488364327507272606"
     },
     "user_tz": -480
    },
    "id": "dRXtd5W30DRN",
    "outputId": "438803d3-01c9-4818-859b-9a54e0243f93"
   },
   "outputs": [],
   "source": [
    "start_time = time.time()\n",
    "for epoch_num in range(num_epochs):\n",
    "\n",
    "    progbar = generic_utils.Progbar(epoch_length)\n",
    "    print('Epoch {}/{}'.format(r_epochs + 1, total_epochs))\n",
    "    \n",
    "    r_epochs += 1\n",
    "\n",
    "    while True:\n",
    "        try:\n",
    "\n",
    "            if len(rpn_accuracy_rpn_monitor) == epoch_length and C.verbose:\n",
    "                mean_overlapping_bboxes = float(sum(rpn_accuracy_rpn_monitor))/len(rpn_accuracy_rpn_monitor)\n",
    "                rpn_accuracy_rpn_monitor = []\n",
    "#                 print('Average number of overlapping bounding boxes from RPN = {} for {} previous iterations'.format(mean_overlapping_bboxes, epoch_length))\n",
    "                if mean_overlapping_bboxes == 0:\n",
    "                    print('RPN is not producing bounding boxes that overlap the ground truth boxes. Check RPN settings or keep training.')\n",
    "\n",
    "            # Generate X (x_img) and label Y ([y_rpn_cls, y_rpn_regr])\n",
    "            X, Y, img_data, debug_img, debug_num_pos = next(data_gen_train)\n",
    "\n",
    "            # Train rpn model and get loss value [_, loss_rpn_cls, loss_rpn_regr]\n",
    "            loss_rpn = model_rpn.train_on_batch(X, Y)\n",
    "\n",
    "            # Get predicted rpn from rpn model [rpn_cls, rpn_regr]\n",
    "            P_rpn = model_rpn.predict_on_batch(X)\n",
    "\n",
    "            # R: bboxes (shape=(300,4))\n",
    "            # Convert rpn layer to roi bboxes\n",
    "            R = rpn_to_roi(P_rpn[0], P_rpn[1], C, K.common.image_dim_ordering(), use_regr=True, overlap_thresh=0.7, max_boxes=300)\n",
    "            \n",
    "            # note: calc_iou converts from (x1,y1,x2,y2) to (x,y,w,h) format\n",
    "            # X2: bboxes that iou > C.classifier_min_overlap for all gt bboxes in 300 non_max_suppression bboxes\n",
    "            # Y1: one hot code for bboxes from above => x_roi (X)\n",
    "            # Y2: corresponding labels and corresponding gt bboxes\n",
    "            X2, Y1, Y2, IouS = calc_iou(R, img_data, C, class_mapping)\n",
    "\n",
    "            # If X2 is None means there are no matching bboxes\n",
    "            if X2 is None:\n",
    "                rpn_accuracy_rpn_monitor.append(0)\n",
    "                rpn_accuracy_for_epoch.append(0)\n",
    "                continue\n",
    "            \n",
    "            # Find out the positive anchors and negative anchors\n",
    "            neg_samples = np.where(Y1[0, :, -1] == 1)\n",
    "            pos_samples = np.where(Y1[0, :, -1] == 0)\n",
    "\n",
    "            if len(neg_samples) > 0:\n",
    "                neg_samples = neg_samples[0]\n",
    "            else:\n",
    "                neg_samples = []\n",
    "\n",
    "            if len(pos_samples) > 0:\n",
    "                pos_samples = pos_samples[0]\n",
    "            else:\n",
    "                pos_samples = []\n",
    "\n",
    "            rpn_accuracy_rpn_monitor.append(len(pos_samples))\n",
    "            rpn_accuracy_for_epoch.append((len(pos_samples)))\n",
    "\n",
    "            if C.num_rois > 1:\n",
    "                # If number of positive anchors is larger than 4//2 = 2, randomly choose 2 pos samples\n",
    "                if len(pos_samples) < C.num_rois//2:\n",
    "                    selected_pos_samples = pos_samples.tolist()\n",
    "                else:\n",
    "                    selected_pos_samples = np.random.choice(pos_samples, C.num_rois//2, replace=False).tolist()\n",
    "                \n",
    "                # Randomly choose (num_rois - num_pos) neg samples\n",
    "                try:\n",
    "                    selected_neg_samples = np.random.choice(neg_samples, C.num_rois - len(selected_pos_samples), replace=False).tolist()\n",
    "                except:\n",
    "                    selected_neg_samples = np.random.choice(neg_samples, C.num_rois - len(selected_pos_samples), replace=True).tolist()\n",
    "                \n",
    "                # Save all the pos and neg samples in sel_samples\n",
    "                sel_samples = selected_pos_samples + selected_neg_samples\n",
    "            else:\n",
    "                # in the extreme case where num_rois = 1, we pick a random pos or neg sample\n",
    "                selected_pos_samples = pos_samples.tolist()\n",
    "                selected_neg_samples = neg_samples.tolist()\n",
    "                if np.random.randint(0, 2):\n",
    "                    sel_samples = random.choice(neg_samples)\n",
    "                else:\n",
    "                    sel_samples = random.choice(pos_samples)\n",
    "\n",
    "            # training_data: [X, X2[:, sel_samples, :]]\n",
    "            # labels: [Y1[:, sel_samples, :], Y2[:, sel_samples, :]]\n",
    "            #  X                     => img_data resized image\n",
    "            #  X2[:, sel_samples, :] => num_rois (4 in here) bboxes which contains selected neg and pos\n",
    "            #  Y1[:, sel_samples, :] => one hot encode for num_rois bboxes which contains selected neg and pos\n",
    "            #  Y2[:, sel_samples, :] => labels and gt bboxes for num_rois bboxes which contains selected neg and pos\n",
    "            loss_class = model_classifier.train_on_batch([X, X2[:, sel_samples, :]], [Y1[:, sel_samples, :], Y2[:, sel_samples, :]])\n",
    "\n",
    "            losses[iter_num, 0] = loss_rpn[1]\n",
    "            losses[iter_num, 1] = loss_rpn[2]\n",
    "\n",
    "            losses[iter_num, 2] = loss_class[1]\n",
    "            losses[iter_num, 3] = loss_class[2]\n",
    "            losses[iter_num, 4] = loss_class[3]\n",
    "\n",
    "            iter_num += 1\n",
    "\n",
    "            progbar.update(iter_num, [('rpn_cls', np.mean(losses[:iter_num, 0])), ('rpn_regr', np.mean(losses[:iter_num, 1])),\n",
    "                                      ('final_cls', np.mean(losses[:iter_num, 2])), ('final_regr', np.mean(losses[:iter_num, 3]))])\n",
    "\n",
    "            if iter_num == epoch_length:\n",
    "                loss_rpn_cls = np.mean(losses[:, 0])\n",
    "                loss_rpn_regr = np.mean(losses[:, 1])\n",
    "                loss_class_cls = np.mean(losses[:, 2])\n",
    "                loss_class_regr = np.mean(losses[:, 3])\n",
    "                class_acc = np.mean(losses[:, 4])\n",
    "\n",
    "                mean_overlapping_bboxes = float(sum(rpn_accuracy_for_epoch)) / len(rpn_accuracy_for_epoch)\n",
    "                rpn_accuracy_for_epoch = []\n",
    "\n",
    "                if C.verbose:\n",
    "                    print('Mean number of bounding boxes from RPN overlapping ground truth boxes: {}'.format(mean_overlapping_bboxes))\n",
    "                    print('Classifier accuracy for bounding boxes from RPN: {}'.format(class_acc))\n",
    "                    print('Loss RPN classifier: {}'.format(loss_rpn_cls))\n",
    "                    print('Loss RPN regression: {}'.format(loss_rpn_regr))\n",
    "                    print('Loss Detector classifier: {}'.format(loss_class_cls))\n",
    "                    print('Loss Detector regression: {}'.format(loss_class_regr))\n",
    "                    print('Total loss: {}'.format(loss_rpn_cls + loss_rpn_regr + loss_class_cls + loss_class_regr))\n",
    "                    print('Elapsed time: {}'.format(time.time() - start_time))\n",
    "                    elapsed_time = (time.time()-start_time)/60\n",
    "\n",
    "                curr_loss = loss_rpn_cls + loss_rpn_regr + loss_class_cls + loss_class_regr\n",
    "                iter_num = 0\n",
    "                start_time = time.time()\n",
    "\n",
    "                if curr_loss < best_loss:\n",
    "                    if C.verbose:\n",
    "                        print('Total loss decreased from {} to {}, saving weights'.format(best_loss,curr_loss))\n",
    "                    best_loss = curr_loss\n",
    "                    model_all.save_weights(C.model_path)\n",
    "\n",
    "                new_row = {'mean_overlapping_bboxes':round(mean_overlapping_bboxes, 3), \n",
    "                           'class_acc':round(class_acc, 3), \n",
    "                           'loss_rpn_cls':round(loss_rpn_cls, 3), \n",
    "                           'loss_rpn_regr':round(loss_rpn_regr, 3), \n",
    "                           'loss_class_cls':round(loss_class_cls, 3), \n",
    "                           'loss_class_regr':round(loss_class_regr, 3), \n",
    "                           'curr_loss':round(curr_loss, 3), \n",
    "                           'elapsed_time':round(elapsed_time, 3), \n",
    "                           'mAP': 0}\n",
    "\n",
    "                record_df = record_df.append(new_row, ignore_index=True)\n",
    "                record_df.to_csv(record_path, index=0)\n",
    "\n",
    "                break\n",
    "\n",
    "        except Exception as e:\n",
    "            print('Exception: {}'.format(e))\n",
    "            continue\n",
    "\n",
    "print('Training complete, exiting.')"
   ]
  },
  {
   "cell_type": "code",
   "execution_count": null,
   "metadata": {
    "colab": {
     "base_uri": "https://localhost:8080/",
     "height": 1316
    },
    "colab_type": "code",
    "executionInfo": {
     "elapsed": 4761,
     "status": "ok",
     "timestamp": 1542545625897,
     "user": {
      "displayName": "Yinghan Xu",
      "photoUrl": "https://lh3.googleusercontent.com/-ZH_vkc0a6g0/AAAAAAAAAAI/AAAAAAAAAAc/x8TPjkqmxys/s64/photo.jpg",
      "userId": "13488364327507272606"
     },
     "user_tz": -480
    },
    "id": "Kt-1Grs90oD3",
    "outputId": "bc9b57eb-e573-447f-a13e-c264b4500f5c"
   },
   "outputs": [],
   "source": [
    "plt.figure(figsize=(15,5))\n",
    "plt.subplot(1,2,1)\n",
    "plt.plot(np.arange(0, r_epochs), record_df['mean_overlapping_bboxes'], 'r')\n",
    "plt.title('mean_overlapping_bboxes')\n",
    "plt.subplot(1,2,2)\n",
    "plt.plot(np.arange(0, r_epochs), record_df['class_acc'], 'r')\n",
    "plt.title('class_acc')\n",
    "\n",
    "plt.show()\n",
    "\n",
    "plt.figure(figsize=(15,5))\n",
    "plt.subplot(1,2,1)\n",
    "plt.plot(np.arange(0, r_epochs), record_df['loss_rpn_cls'], 'r')\n",
    "plt.title('loss_rpn_cls')\n",
    "plt.subplot(1,2,2)\n",
    "plt.plot(np.arange(0, r_epochs), record_df['loss_rpn_regr'], 'r')\n",
    "plt.title('loss_rpn_regr')\n",
    "plt.show()\n",
    "\n",
    "\n",
    "plt.figure(figsize=(15,5))\n",
    "plt.subplot(1,2,1)\n",
    "plt.plot(np.arange(0, r_epochs), record_df['loss_class_cls'], 'r')\n",
    "plt.title('loss_class_cls')\n",
    "plt.subplot(1,2,2)\n",
    "plt.plot(np.arange(0, r_epochs), record_df['loss_class_regr'], 'r')\n",
    "plt.title('loss_class_regr')\n",
    "plt.show()\n",
    "\n",
    "plt.plot(np.arange(0, r_epochs), record_df['curr_loss'], 'r')\n",
    "plt.title('total_loss')\n",
    "plt.show()\n",
    "\n"
   ]
  },
  {
   "cell_type": "code",
   "execution_count": null,
   "metadata": {},
   "outputs": [],
   "source": []
  }
 ],
 "metadata": {
  "accelerator": "GPU",
  "colab": {
   "collapsed_sections": [],
   "name": "frcnn_train_vgg.ipynb",
   "provenance": [],
   "version": "0.3.2"
  },
  "kernelspec": {
   "display_name": "Python 3",
   "language": "python",
   "name": "python3"
  },
  "language_info": {
   "codemirror_mode": {
    "name": "ipython",
    "version": 3
   },
   "file_extension": ".py",
   "mimetype": "text/x-python",
   "name": "python",
   "nbconvert_exporter": "python",
   "pygments_lexer": "ipython3",
   "version": "3.7.6"
  }
 },
 "nbformat": 4,
 "nbformat_minor": 1
}
