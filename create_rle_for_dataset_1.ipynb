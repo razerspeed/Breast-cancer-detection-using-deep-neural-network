{
 "cells": [
  {
   "cell_type": "code",
   "execution_count": 1,
   "metadata": {},
   "outputs": [],
   "source": [
    "import numpy as np\n",
    "import matplotlib.pyplot as plt\n",
    "import os\n",
    "from PIL import Image\n",
    "import tensorflow.keras as keras\n",
    "from tensorflow.keras.models import Model\n",
    "from tensorflow.keras.layers import Conv2D, MaxPooling2D, Input, Conv2DTranspose, Concatenate, BatchNormalization, UpSampling2D\n",
    "from tensorflow.keras.layers import  Dropout, Activation\n",
    "from tensorflow.keras.optimizers import Adam, SGD\n",
    "from tensorflow.keras.callbacks import ModelCheckpoint, ReduceLROnPlateau, EarlyStopping\n",
    "from tensorflow.keras import backend as K\n",
    "from tensorflow.keras.utils import plot_model\n",
    "import tensorflow as tf\n",
    "import glob\n",
    "import random\n",
    "import cv2\n",
    "from random import shuffle\n",
    "from PIL import Image, ImageEnhance"
   ]
  },
  {
   "cell_type": "code",
   "execution_count": 2,
   "metadata": {},
   "outputs": [],
   "source": [
    "import os\n",
    "datapath=os.listdir('dataset_1/')\n",
    "datapath.sort()\n",
    "csvpath=os.listdir('csv_file/')\n",
    "csvpath.sort()\n",
    "segpath=os.listdir('rle_image_dataset_1/')\n",
    "segpath.sort()"
   ]
  },
  {
   "cell_type": "code",
   "execution_count": 4,
   "metadata": {},
   "outputs": [],
   "source": [
    "import numpy as np\n",
    "for i in range(len(datapath)):\n",
    "\n",
    "    path=datapath[i].split('.')\n",
    "    img=cv2.imread('dataset_1/'+datapath[i])\n",
    "    f=open(os.path.join('csv_file/',csvpath[i]))\n",
    "    text=f.read()\n",
    "    points=text.split(\"\\n\")\n",
    "    imgsegblack=np.zeros((2084,2084,1))\n",
    "    for q in points:\n",
    "\n",
    "        t=q.split(',')\n",
    "        for k in range(0,len(t)-1,2):\n",
    "            if int(t[k+1])<=2080 and int(t[k])<=2080:\n",
    "                imgsegblack[int(t[k+1])][int(t[k])][0]=255\n",
    "    \n",
    "    cv2.imwrite(os.path.join('rle_image_dataset_1/',datapath[i].split('.')[0]+'.png'),imgsegblack)\n"
   ]
  },
  {
   "cell_type": "code",
   "execution_count": null,
   "metadata": {},
   "outputs": [],
   "source": []
  }
 ],
 "metadata": {
  "kernelspec": {
   "display_name": "Python 3",
   "language": "python",
   "name": "python3"
  },
  "language_info": {
   "codemirror_mode": {
    "name": "ipython",
    "version": 3
   },
   "file_extension": ".py",
   "mimetype": "text/x-python",
   "name": "python",
   "nbconvert_exporter": "python",
   "pygments_lexer": "ipython3",
   "version": "3.7.6"
  }
 },
 "nbformat": 4,
 "nbformat_minor": 4
}
