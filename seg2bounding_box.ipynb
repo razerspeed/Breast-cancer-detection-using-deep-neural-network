{
 "cells": [
  {
   "cell_type": "code",
   "execution_count": 1,
   "metadata": {},
   "outputs": [],
   "source": [
    "import numpy as np\n",
    "import matplotlib.pyplot as plt\n",
    "import os\n",
    "from PIL import Image\n",
    "import glob\n",
    "import random\n",
    "import cv2\n",
    "from random import shuffle\n",
    "from PIL import Image, ImageEnhance"
   ]
  },
  {
   "cell_type": "code",
   "execution_count": 2,
   "metadata": {},
   "outputs": [],
   "source": [
    "raw = Image.open('rle_image_dataset_2/Unet-result.png')\n",
    "raw=np.array(raw)"
   ]
  },
  {
   "cell_type": "code",
   "execution_count": 3,
   "metadata": {},
   "outputs": [
    {
     "data": {
      "text/plain": [
       "<matplotlib.image.AxesImage at 0x187856e6d48>"
      ]
     },
     "execution_count": 3,
     "metadata": {},
     "output_type": "execute_result"
    },
    {
     "data": {
      "image/png": "[encoded data removed]",
      "text/plain": [
       "<Figure size 432x288 with 1 Axes>"
      ]
     },
     "metadata": {
      "needs_background": "light"
     },
     "output_type": "display_data"
    }
   ],
   "source": [
    "plt.imshow(raw[:,:,0],cmap='gray')"
   ]
  },
  {
   "cell_type": "code",
   "execution_count": 4,
   "metadata": {},
   "outputs": [],
   "source": [
    "raw=np.array(raw[:,:,0])"
   ]
  },
  {
   "cell_type": "code",
   "execution_count": 5,
   "metadata": {},
   "outputs": [],
   "source": [
    "from skimage import measure"
   ]
  },
  {
   "cell_type": "code",
   "execution_count": 6,
   "metadata": {},
   "outputs": [],
   "source": [
    "label_mask = measure.label(raw)"
   ]
  },
  {
   "cell_type": "code",
   "execution_count": 7,
   "metadata": {},
   "outputs": [],
   "source": [
    "regions = measure.regionprops(label_mask)"
   ]
  },
  {
   "cell_type": "code",
   "execution_count": 8,
   "metadata": {},
   "outputs": [
    {
     "data": {
      "text/plain": [
       "[<skimage.measure._regionprops.RegionProperties at 0x18786ab3908>,\n",
       " <skimage.measure._regionprops.RegionProperties at 0x18786ab3948>,\n",
       " <skimage.measure._regionprops.RegionProperties at 0x18786ab3988>,\n",
       " <skimage.measure._regionprops.RegionProperties at 0x18786ab39c8>,\n",
       " <skimage.measure._regionprops.RegionProperties at 0x18786ab3a08>,\n",
       " <skimage.measure._regionprops.RegionProperties at 0x18786ab3a88>,\n",
       " <skimage.measure._regionprops.RegionProperties at 0x18786ab3ac8>,\n",
       " <skimage.measure._regionprops.RegionProperties at 0x18786ab3b08>,\n",
       " <skimage.measure._regionprops.RegionProperties at 0x18786ab3b48>,\n",
       " <skimage.measure._regionprops.RegionProperties at 0x18786ab3a48>,\n",
       " <skimage.measure._regionprops.RegionProperties at 0x18786ab3b88>,\n",
       " <skimage.measure._regionprops.RegionProperties at 0x18786ab3bc8>,\n",
       " <skimage.measure._regionprops.RegionProperties at 0x18786ab3c08>,\n",
       " <skimage.measure._regionprops.RegionProperties at 0x18786ab3c48>]"
      ]
     },
     "execution_count": 8,
     "metadata": {},
     "output_type": "execute_result"
    }
   ],
   "source": [
    "regions"
   ]
  },
  {
   "cell_type": "code",
   "execution_count": 9,
   "metadata": {},
   "outputs": [
    {
     "data": {
      "image/png": "[encoded data removed]",
      "text/plain": [
       "<Figure size 432x288 with 1 Axes>"
      ]
     },
     "metadata": {
      "needs_background": "light"
     },
     "output_type": "display_data"
    }
   ],
   "source": [
    "fig, ax = plt.subplots()\n",
    "ax.imshow(raw, cmap=plt.cm.gray)\n",
    "file2write=[]\n",
    "for props in regions:\n",
    "\n",
    "    minr, minc, maxr, maxc = props.bbox\n",
    "    bx = (minc, maxc, maxc, minc, minc)\n",
    "    by = (minr, minr, maxr, maxr, minr)\n",
    "    ax.plot(bx, by, '-b', linewidth=1)\n",
    "    file2write.append(f\"Unet-result.png,{minr},{minc},{maxr},{maxc},mitosis \\n\")\n",
    "# ax.axis((0, 600, 600, 0))\n",
    "plt.show()"
   ]
  },
  {
   "cell_type": "code",
   "execution_count": 10,
   "metadata": {},
   "outputs": [
    {
     "data": {
      "text/plain": [
       "['Unet-result.png,27,795,47,817,mitosis \\n',\n",
       " 'Unet-result.png,246,533,250,537,mitosis \\n',\n",
       " 'Unet-result.png,246,1431,247,1433,mitosis \\n',\n",
       " 'Unet-result.png,272,1176,285,1189,mitosis \\n',\n",
       " 'Unet-result.png,280,244,285,254,mitosis \\n',\n",
       " 'Unet-result.png,484,1354,509,1383,mitosis \\n',\n",
       " 'Unet-result.png,556,399,573,417,mitosis \\n',\n",
       " 'Unet-result.png,571,512,576,513,mitosis \\n',\n",
       " 'Unet-result.png,577,512,578,513,mitosis \\n',\n",
       " 'Unet-result.png,666,247,673,254,mitosis \\n',\n",
       " 'Unet-result.png,798,221,805,228,mitosis \\n',\n",
       " 'Unet-result.png,1052,239,1068,255,mitosis \\n',\n",
       " 'Unet-result.png,1121,1073,1144,1104,mitosis \\n',\n",
       " 'Unet-result.png,1259,354,1262,357,mitosis \\n']"
      ]
     },
     "execution_count": 10,
     "metadata": {},
     "output_type": "execute_result"
    }
   ],
   "source": [
    "file2write"
   ]
  },
  {
   "cell_type": "code",
   "execution_count": 11,
   "metadata": {},
   "outputs": [],
   "source": [
    "file1 = open(\"annotation.txt\",\"w\")"
   ]
  },
  {
   "cell_type": "code",
   "execution_count": 12,
   "metadata": {},
   "outputs": [],
   "source": [
    "file1.writelines(file2write) \n",
    "file1.close() "
   ]
  },
  {
   "cell_type": "code",
   "execution_count": null,
   "metadata": {},
   "outputs": [],
   "source": []
  }
 ],
 "metadata": {
  "kernelspec": {
   "display_name": "Python 3",
   "language": "python",
   "name": "python3"
  },
  "language_info": {
   "codemirror_mode": {
    "name": "ipython",
    "version": 3
   },
   "file_extension": ".py",
   "mimetype": "text/x-python",
   "name": "python",
   "nbconvert_exporter": "python",
   "pygments_lexer": "ipython3",
   "version": "3.7.6"
  }
 },
 "nbformat": 4,
 "nbformat_minor": 4
}
